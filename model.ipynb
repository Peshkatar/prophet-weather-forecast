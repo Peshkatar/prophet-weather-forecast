{
 "cells": [
  {
   "cell_type": "code",
   "execution_count": 340,
   "id": "fee3c4b0",
   "metadata": {},
   "outputs": [],
   "source": [
    "import pandas as pd\n",
    "import matplotlib.pyplot as plt\n",
    "import seaborn as sns\n",
    "import numpy as np"
   ]
  },
  {
   "cell_type": "code",
   "execution_count": 211,
   "id": "f85cae5d",
   "metadata": {},
   "outputs": [],
   "source": [
    "df = pd.read_csv(\"data/karlskrona/smhi-lufttemperatur.csv\", sep=\";\")"
   ]
  },
  {
   "cell_type": "code",
   "execution_count": 212,
   "id": "666c7223",
   "metadata": {},
   "outputs": [
    {
     "data": {
      "text/html": [
       "<div>\n",
       "<style scoped>\n",
       "    .dataframe tbody tr th:only-of-type {\n",
       "        vertical-align: middle;\n",
       "    }\n",
       "\n",
       "    .dataframe tbody tr th {\n",
       "        vertical-align: top;\n",
       "    }\n",
       "\n",
       "    .dataframe thead th {\n",
       "        text-align: right;\n",
       "    }\n",
       "</style>\n",
       "<table border=\"1\" class=\"dataframe\">\n",
       "  <thead>\n",
       "    <tr style=\"text-align: right;\">\n",
       "      <th></th>\n",
       "      <th>Datum</th>\n",
       "      <th>Tid (UTC)</th>\n",
       "      <th>Lufttemperatur</th>\n",
       "      <th>Kvalitet</th>\n",
       "    </tr>\n",
       "  </thead>\n",
       "  <tbody>\n",
       "    <tr>\n",
       "      <th>0</th>\n",
       "      <td>2010-03-01</td>\n",
       "      <td>00:00:00</td>\n",
       "      <td>2.0</td>\n",
       "      <td>G</td>\n",
       "    </tr>\n",
       "    <tr>\n",
       "      <th>1</th>\n",
       "      <td>2010-03-01</td>\n",
       "      <td>01:00:00</td>\n",
       "      <td>2.2</td>\n",
       "      <td>Y</td>\n",
       "    </tr>\n",
       "    <tr>\n",
       "      <th>2</th>\n",
       "      <td>2010-03-01</td>\n",
       "      <td>02:00:00</td>\n",
       "      <td>2.2</td>\n",
       "      <td>Y</td>\n",
       "    </tr>\n",
       "    <tr>\n",
       "      <th>3</th>\n",
       "      <td>2010-03-01</td>\n",
       "      <td>03:00:00</td>\n",
       "      <td>1.7</td>\n",
       "      <td>G</td>\n",
       "    </tr>\n",
       "    <tr>\n",
       "      <th>4</th>\n",
       "      <td>2010-03-01</td>\n",
       "      <td>04:00:00</td>\n",
       "      <td>1.7</td>\n",
       "      <td>Y</td>\n",
       "    </tr>\n",
       "    <tr>\n",
       "      <th>...</th>\n",
       "      <td>...</td>\n",
       "      <td>...</td>\n",
       "      <td>...</td>\n",
       "      <td>...</td>\n",
       "    </tr>\n",
       "    <tr>\n",
       "      <th>108214</th>\n",
       "      <td>2022-08-01</td>\n",
       "      <td>02:00:00</td>\n",
       "      <td>16.2</td>\n",
       "      <td>G</td>\n",
       "    </tr>\n",
       "    <tr>\n",
       "      <th>108215</th>\n",
       "      <td>2022-08-01</td>\n",
       "      <td>03:00:00</td>\n",
       "      <td>16.0</td>\n",
       "      <td>G</td>\n",
       "    </tr>\n",
       "    <tr>\n",
       "      <th>108216</th>\n",
       "      <td>2022-08-01</td>\n",
       "      <td>04:00:00</td>\n",
       "      <td>16.1</td>\n",
       "      <td>G</td>\n",
       "    </tr>\n",
       "    <tr>\n",
       "      <th>108217</th>\n",
       "      <td>2022-08-01</td>\n",
       "      <td>05:00:00</td>\n",
       "      <td>17.4</td>\n",
       "      <td>G</td>\n",
       "    </tr>\n",
       "    <tr>\n",
       "      <th>108218</th>\n",
       "      <td>2022-08-01</td>\n",
       "      <td>06:00:00</td>\n",
       "      <td>17.8</td>\n",
       "      <td>G</td>\n",
       "    </tr>\n",
       "  </tbody>\n",
       "</table>\n",
       "<p>108219 rows × 4 columns</p>\n",
       "</div>"
      ],
      "text/plain": [
       "             Datum Tid (UTC)  Lufttemperatur Kvalitet\n",
       "0       2010-03-01  00:00:00             2.0        G\n",
       "1       2010-03-01  01:00:00             2.2        Y\n",
       "2       2010-03-01  02:00:00             2.2        Y\n",
       "3       2010-03-01  03:00:00             1.7        G\n",
       "4       2010-03-01  04:00:00             1.7        Y\n",
       "...            ...       ...             ...      ...\n",
       "108214  2022-08-01  02:00:00            16.2        G\n",
       "108215  2022-08-01  03:00:00            16.0        G\n",
       "108216  2022-08-01  04:00:00            16.1        G\n",
       "108217  2022-08-01  05:00:00            17.4        G\n",
       "108218  2022-08-01  06:00:00            17.8        G\n",
       "\n",
       "[108219 rows x 4 columns]"
      ]
     },
     "execution_count": 212,
     "metadata": {},
     "output_type": "execute_result"
    }
   ],
   "source": [
    "df"
   ]
  },
  {
   "cell_type": "markdown",
   "id": "e5297075-f3f0-4908-afb0-482aaceed517",
   "metadata": {},
   "source": [
    "### Data preprocessing"
   ]
  },
  {
   "cell_type": "code",
   "execution_count": 335,
   "id": "55e5adb2",
   "metadata": {},
   "outputs": [],
   "source": [
    "def transform(df_: pd.DataFrame) -> pd.DataFrame:\n",
    "    return (df_\n",
    "        .rename(columns={\"Lufttemperatur\": \"y\", \"Kvalitet\": \"quality\"})\n",
    "        .assign(ds=pd.to_datetime(df_[\"Datum\"] + \" \" + df_[\"Tid (UTC)\"]))\n",
    "        .query(\"quality != 'Y'\")\n",
    "        .loc[:, [\"temperature\"]]\n",
    "        .astype({\"temperature\": np.int8}))"
   ]
  },
  {
   "cell_type": "code",
   "execution_count": 319,
   "id": "f6e67f0f",
   "metadata": {},
   "outputs": [],
   "source": [
    "weather = transform(df)"
   ]
  },
  {
   "cell_type": "code",
   "execution_count": 322,
   "id": "a16cbdd6",
   "metadata": {},
   "outputs": [
    {
     "data": {
      "text/html": [
       "<div>\n",
       "<style scoped>\n",
       "    .dataframe tbody tr th:only-of-type {\n",
       "        vertical-align: middle;\n",
       "    }\n",
       "\n",
       "    .dataframe tbody tr th {\n",
       "        vertical-align: top;\n",
       "    }\n",
       "\n",
       "    .dataframe thead th {\n",
       "        text-align: right;\n",
       "    }\n",
       "</style>\n",
       "<table border=\"1\" class=\"dataframe\">\n",
       "  <thead>\n",
       "    <tr style=\"text-align: right;\">\n",
       "      <th></th>\n",
       "      <th>temperature</th>\n",
       "    </tr>\n",
       "    <tr>\n",
       "      <th>date</th>\n",
       "      <th></th>\n",
       "    </tr>\n",
       "  </thead>\n",
       "  <tbody>\n",
       "    <tr>\n",
       "      <th>2010-03-01 00:00:00</th>\n",
       "      <td>2</td>\n",
       "    </tr>\n",
       "    <tr>\n",
       "      <th>2010-03-01 03:00:00</th>\n",
       "      <td>2</td>\n",
       "    </tr>\n",
       "    <tr>\n",
       "      <th>2010-03-01 06:00:00</th>\n",
       "      <td>1</td>\n",
       "    </tr>\n",
       "    <tr>\n",
       "      <th>2010-03-01 09:00:00</th>\n",
       "      <td>1</td>\n",
       "    </tr>\n",
       "    <tr>\n",
       "      <th>2010-03-01 12:00:00</th>\n",
       "      <td>2</td>\n",
       "    </tr>\n",
       "    <tr>\n",
       "      <th>...</th>\n",
       "      <td>...</td>\n",
       "    </tr>\n",
       "    <tr>\n",
       "      <th>2022-08-01 02:00:00</th>\n",
       "      <td>16</td>\n",
       "    </tr>\n",
       "    <tr>\n",
       "      <th>2022-08-01 03:00:00</th>\n",
       "      <td>16</td>\n",
       "    </tr>\n",
       "    <tr>\n",
       "      <th>2022-08-01 04:00:00</th>\n",
       "      <td>16</td>\n",
       "    </tr>\n",
       "    <tr>\n",
       "      <th>2022-08-01 05:00:00</th>\n",
       "      <td>17</td>\n",
       "    </tr>\n",
       "    <tr>\n",
       "      <th>2022-08-01 06:00:00</th>\n",
       "      <td>18</td>\n",
       "    </tr>\n",
       "  </tbody>\n",
       "</table>\n",
       "<p>105883 rows × 1 columns</p>\n",
       "</div>"
      ],
      "text/plain": [
       "                     temperature\n",
       "date                            \n",
       "2010-03-01 00:00:00            2\n",
       "2010-03-01 03:00:00            2\n",
       "2010-03-01 06:00:00            1\n",
       "2010-03-01 09:00:00            1\n",
       "2010-03-01 12:00:00            2\n",
       "...                          ...\n",
       "2022-08-01 02:00:00           16\n",
       "2022-08-01 03:00:00           16\n",
       "2022-08-01 04:00:00           16\n",
       "2022-08-01 05:00:00           17\n",
       "2022-08-01 06:00:00           18\n",
       "\n",
       "[105883 rows x 1 columns]"
      ]
     },
     "execution_count": 322,
     "metadata": {},
     "output_type": "execute_result"
    }
   ],
   "source": [
    "weather"
   ]
  },
  {
   "cell_type": "code",
   "execution_count": 323,
   "id": "b8f341d6",
   "metadata": {},
   "outputs": [
    {
     "data": {
      "text/plain": [
       "(Timestamp('2010-03-01 00:00:00'), Timestamp('2022-08-01 06:00:00'))"
      ]
     },
     "execution_count": 323,
     "metadata": {},
     "output_type": "execute_result"
    }
   ],
   "source": [
    "weather.index.min(), weather.index.max()"
   ]
  },
  {
   "cell_type": "code",
   "execution_count": 324,
   "id": "dd38136c",
   "metadata": {},
   "outputs": [
    {
     "data": {
      "text/plain": [
       "temperature    0\n",
       "dtype: int64"
      ]
     },
     "execution_count": 324,
     "metadata": {},
     "output_type": "execute_result"
    }
   ],
   "source": [
    "weather.isna().sum()"
   ]
  },
  {
   "cell_type": "markdown",
   "id": "88e98a7b-18da-4680-85f1-36ff3d2e81ed",
   "metadata": {},
   "source": [
    "### Data exploration"
   ]
  },
  {
   "cell_type": "code",
   "execution_count": 325,
   "id": "beee6285",
   "metadata": {},
   "outputs": [
    {
     "data": {
      "image/png": "[encoded data removed]",
      "text/plain": [
       "<Figure size 640x480 with 1 Axes>"
      ]
     },
     "metadata": {},
     "output_type": "display_data"
    }
   ],
   "source": [
    "weather.plot();"
   ]
  },
  {
   "cell_type": "code",
   "execution_count": 326,
   "id": "c5a8cfc6",
   "metadata": {},
   "outputs": [
    {
     "data": {
      "image/png": "[encoded data removed]",
      "text/plain": [
       "<Figure size 640x480 with 1 Axes>"
      ]
     },
     "metadata": {},
     "output_type": "display_data"
    }
   ],
   "source": [
    "sns.boxplot(data=weather);"
   ]
  },
  {
   "attachments": {},
   "cell_type": "markdown",
   "id": "36bae2e0-43a5-42d6-90ed-9b53d46f9d63",
   "metadata": {},
   "source": [
    "### 1. Spliting"
   ]
  },
  {
   "cell_type": "code",
   "execution_count": null,
   "id": "4d1e7a2b",
   "metadata": {},
   "outputs": [],
   "source": [
    "# split data into predictors and response\n",
    "train = weather[weather['ds'] < pd.Timestamp('2019-01-01')]\n",
    "test = weather[weather['ds'] >= pd.Timestamp('2019-01-01')]"
   ]
  },
  {
   "cell_type": "code",
   "execution_count": null,
   "id": "ddb1d6c5",
   "metadata": {},
   "outputs": [],
   "source": [
    "# fit model - ignore train/test split for now\n",
    "m = Prophet()\n",
    "m.fit(train)"
   ]
  },
  {
   "attachments": {},
   "cell_type": "markdown",
   "id": "85af151d-d414-4aa4-a91a-bdd0ac0879cb",
   "metadata": {},
   "source": [
    "### 2. Modeling"
   ]
  },
  {
   "attachments": {},
   "cell_type": "markdown",
   "id": "a7156f91-aaab-47ad-8c4c-318a09df6e23",
   "metadata": {},
   "source": [
    "### 3. Evaluatiation"
   ]
  }
 ],
 "metadata": {
  "kernelspec": {
   "display_name": "minimal-ds",
   "language": "python",
   "name": "python3"
  },
  "language_info": {
   "codemirror_mode": {
    "name": "ipython",
    "version": 3
   },
   "file_extension": ".py",
   "mimetype": "text/x-python",
   "name": "python",
   "nbconvert_exporter": "python",
   "pygments_lexer": "ipython3",
   "version": "3.11.0 | packaged by conda-forge | (main, Oct 25 2022, 06:24:51) [Clang 14.0.4 ]"
  },
  "vscode": {
   "interpreter": {
    "hash": "a7fc92540040b30c116dd350b8f2f8ab0eb9583fdc09aff39fc49f404f5507df"
   }
  }
 },
 "nbformat": 4,
 "nbformat_minor": 5
}
