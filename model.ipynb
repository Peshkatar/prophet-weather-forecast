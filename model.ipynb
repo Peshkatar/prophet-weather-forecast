{
 "cells": [
  {
   "cell_type": "code",
   "execution_count": 1,
   "id": "fee3c4b0",
   "metadata": {},
   "outputs": [],
   "source": [
    "import pandas as pd"
   ]
  },
  {
   "cell_type": "code",
   "execution_count": 25,
   "id": "6b1a65b4",
   "metadata": {},
   "outputs": [],
   "source": [
    "df = pd.read_csv(\"data/karlskrona/smhi-lufttemperatur.csv\", sep=\";\", index_col=[\"Datum\", \"Tid (UTC)\"], parse_dates=True)"
   ]
  },
  {
   "cell_type": "code",
   "execution_count": 33,
   "id": "b39557f1",
   "metadata": {},
   "outputs": [
    {
     "data": {
      "text/html": [
       "<div>\n",
       "<style scoped>\n",
       "    .dataframe tbody tr th:only-of-type {\n",
       "        vertical-align: middle;\n",
       "    }\n",
       "\n",
       "    .dataframe tbody tr th {\n",
       "        vertical-align: top;\n",
       "    }\n",
       "\n",
       "    .dataframe thead th {\n",
       "        text-align: right;\n",
       "    }\n",
       "</style>\n",
       "<table border=\"1\" class=\"dataframe\">\n",
       "  <thead>\n",
       "    <tr style=\"text-align: right;\">\n",
       "      <th></th>\n",
       "      <th></th>\n",
       "      <th>Lufttemperatur</th>\n",
       "      <th>Kvalitet</th>\n",
       "    </tr>\n",
       "    <tr>\n",
       "      <th>Datum</th>\n",
       "      <th>Tid (UTC)</th>\n",
       "      <th></th>\n",
       "      <th></th>\n",
       "    </tr>\n",
       "  </thead>\n",
       "  <tbody>\n",
       "    <tr>\n",
       "      <th rowspan=\"5\" valign=\"top\">2010-03-01</th>\n",
       "      <th>2022-12-26 00:00:00</th>\n",
       "      <td>2.0</td>\n",
       "      <td>G</td>\n",
       "    </tr>\n",
       "    <tr>\n",
       "      <th>2022-12-26 01:00:00</th>\n",
       "      <td>2.2</td>\n",
       "      <td>Y</td>\n",
       "    </tr>\n",
       "    <tr>\n",
       "      <th>2022-12-26 02:00:00</th>\n",
       "      <td>2.2</td>\n",
       "      <td>Y</td>\n",
       "    </tr>\n",
       "    <tr>\n",
       "      <th>2022-12-26 03:00:00</th>\n",
       "      <td>1.7</td>\n",
       "      <td>G</td>\n",
       "    </tr>\n",
       "    <tr>\n",
       "      <th>2022-12-26 04:00:00</th>\n",
       "      <td>1.7</td>\n",
       "      <td>Y</td>\n",
       "    </tr>\n",
       "    <tr>\n",
       "      <th>...</th>\n",
       "      <th>...</th>\n",
       "      <td>...</td>\n",
       "      <td>...</td>\n",
       "    </tr>\n",
       "    <tr>\n",
       "      <th rowspan=\"5\" valign=\"top\">2022-08-01</th>\n",
       "      <th>2022-12-26 02:00:00</th>\n",
       "      <td>16.2</td>\n",
       "      <td>G</td>\n",
       "    </tr>\n",
       "    <tr>\n",
       "      <th>2022-12-26 03:00:00</th>\n",
       "      <td>16.0</td>\n",
       "      <td>G</td>\n",
       "    </tr>\n",
       "    <tr>\n",
       "      <th>2022-12-26 04:00:00</th>\n",
       "      <td>16.1</td>\n",
       "      <td>G</td>\n",
       "    </tr>\n",
       "    <tr>\n",
       "      <th>2022-12-26 05:00:00</th>\n",
       "      <td>17.4</td>\n",
       "      <td>G</td>\n",
       "    </tr>\n",
       "    <tr>\n",
       "      <th>2022-12-26 06:00:00</th>\n",
       "      <td>17.8</td>\n",
       "      <td>G</td>\n",
       "    </tr>\n",
       "  </tbody>\n",
       "</table>\n",
       "<p>108219 rows × 2 columns</p>\n",
       "</div>"
      ],
      "text/plain": [
       "                                Lufttemperatur Kvalitet\n",
       "Datum      Tid (UTC)                                   \n",
       "2010-03-01 2022-12-26 00:00:00             2.0        G\n",
       "           2022-12-26 01:00:00             2.2        Y\n",
       "           2022-12-26 02:00:00             2.2        Y\n",
       "           2022-12-26 03:00:00             1.7        G\n",
       "           2022-12-26 04:00:00             1.7        Y\n",
       "...                                        ...      ...\n",
       "2022-08-01 2022-12-26 02:00:00            16.2        G\n",
       "           2022-12-26 03:00:00            16.0        G\n",
       "           2022-12-26 04:00:00            16.1        G\n",
       "           2022-12-26 05:00:00            17.4        G\n",
       "           2022-12-26 06:00:00            17.8        G\n",
       "\n",
       "[108219 rows x 2 columns]"
      ]
     },
     "execution_count": 33,
     "metadata": {},
     "output_type": "execute_result"
    }
   ],
   "source": [
    "df"
   ]
  },
  {
   "cell_type": "markdown",
   "id": "e5297075-f3f0-4908-afb0-482aaceed517",
   "metadata": {},
   "source": [
    "### Data preprocessing"
   ]
  },
  {
   "cell_type": "markdown",
   "id": "88e98a7b-18da-4680-85f1-36ff3d2e81ed",
   "metadata": {},
   "source": [
    "### Data exploration"
   ]
  },
  {
   "cell_type": "markdown",
   "id": "36bae2e0-43a5-42d6-90ed-9b53d46f9d63",
   "metadata": {},
   "source": [
    "### 1. Choose predicted variable"
   ]
  },
  {
   "cell_type": "markdown",
   "id": "5267b3ee-016c-4e43-8b7d-1363e0da4a30",
   "metadata": {},
   "source": [
    "### 2. Choose predictors "
   ]
  },
  {
   "cell_type": "markdown",
   "id": "655934da-2825-4427-9b92-dbf365a20366",
   "metadata": {},
   "source": [
    "### 3. Split data"
   ]
  },
  {
   "cell_type": "markdown",
   "id": "85af151d-d414-4aa4-a91a-bdd0ac0879cb",
   "metadata": {},
   "source": [
    "### 4. Building model"
   ]
  },
  {
   "cell_type": "markdown",
   "id": "a7156f91-aaab-47ad-8c4c-318a09df6e23",
   "metadata": {},
   "source": [
    "### 5. Evaluating model effiency"
   ]
  },
  {
   "cell_type": "markdown",
   "id": "27a8bce7-d5f3-45a1-acec-aeeecc62859b",
   "metadata": {},
   "source": [
    "### 6. Evaluating model accuracy"
   ]
  }
 ],
 "metadata": {
  "kernelspec": {
   "display_name": "Python 3",
   "language": "python",
   "name": "python3"
  },
  "language_info": {
   "codemirror_mode": {
    "name": "ipython",
    "version": 3
   },
   "file_extension": ".py",
   "mimetype": "text/x-python",
   "name": "python",
   "nbconvert_exporter": "python",
   "pygments_lexer": "ipython3",
   "version": "3.11.0"
  },
  "vscode": {
   "interpreter": {
    "hash": "3456415149c249a45994636c03a549c6640097b70b1b32785ff6eca984b2808a"
   }
  }
 },
 "nbformat": 4,
 "nbformat_minor": 5
}
