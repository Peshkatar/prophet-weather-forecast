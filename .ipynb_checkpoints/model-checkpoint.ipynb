{
 "cells": [
  {
   "cell_type": "markdown",
   "id": "e5297075-f3f0-4908-afb0-482aaceed517",
   "metadata": {},
   "source": [
    "### Data preprocessing"
   ]
  },
  {
   "cell_type": "markdown",
   "id": "88e98a7b-18da-4680-85f1-36ff3d2e81ed",
   "metadata": {},
   "source": [
    "### Data exploration"
   ]
  },
  {
   "cell_type": "markdown",
   "id": "36bae2e0-43a5-42d6-90ed-9b53d46f9d63",
   "metadata": {},
   "source": [
    "### 1. Choose predicted variable"
   ]
  },
  {
   "cell_type": "markdown",
   "id": "5267b3ee-016c-4e43-8b7d-1363e0da4a30",
   "metadata": {},
   "source": [
    "### 2. Choose predictors "
   ]
  },
  {
   "cell_type": "markdown",
   "id": "655934da-2825-4427-9b92-dbf365a20366",
   "metadata": {},
   "source": [
    "### 3. Split data"
   ]
  },
  {
   "cell_type": "markdown",
   "id": "85af151d-d414-4aa4-a91a-bdd0ac0879cb",
   "metadata": {},
   "source": [
    "### 4. Building model"
   ]
  },
  {
   "cell_type": "markdown",
   "id": "a7156f91-aaab-47ad-8c4c-318a09df6e23",
   "metadata": {},
   "source": [
    "### 5. Evaluating model effiency"
   ]
  },
  {
   "cell_type": "markdown",
   "id": "27a8bce7-d5f3-45a1-acec-aeeecc62859b",
   "metadata": {},
   "source": [
    "### 6. Evaluating model accuracy"
   ]
  }
 ],
 "metadata": {
  "kernelspec": {
   "display_name": "Python 3 (ipykernel)",
   "language": "python",
   "name": "python3"
  },
  "language_info": {
   "codemirror_mode": {
    "name": "ipython",
    "version": 3
   },
   "file_extension": ".py",
   "mimetype": "text/x-python",
   "name": "python",
   "nbconvert_exporter": "python",
   "pygments_lexer": "ipython3",
   "version": "3.10.5"
  }
 },
 "nbformat": 4,
 "nbformat_minor": 5
}
